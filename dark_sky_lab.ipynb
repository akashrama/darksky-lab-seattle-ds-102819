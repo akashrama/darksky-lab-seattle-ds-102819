{
 "cells": [
  {
   "cell_type": "markdown",
   "metadata": {},
   "source": [
    "Import the necessary libraries."
   ]
  },
  {
   "cell_type": "code",
   "execution_count": 1,
   "metadata": {},
   "outputs": [],
   "source": [
    "import sqlite3\n",
    "import pandas as pd\n",
    "import requests\n",
    "conn = sqlite3.connect('database.sqlite')\n",
    "c = conn.cursor()"
   ]
  },
  {
   "cell_type": "code",
   "execution_count": 10,
   "metadata": {},
   "outputs": [
    {
     "data": {
      "text/plain": [
       "[('2010-04-04',),\n",
       " ('2009-11-01',),\n",
       " ('2009-10-04',),\n",
       " ('2010-02-21',),\n",
       " ('2009-12-06',),\n",
       " ('2010-04-03',),\n",
       " ('2009-08-14',),\n",
       " ('2010-03-08',),\n",
       " ('2009-09-26',),\n",
       " ('2009-11-21',),\n",
       " ('2009-12-19',),\n",
       " ('2010-04-16',),\n",
       " ('2010-03-21',),\n",
       " ('2009-09-14',),\n",
       " ('2010-05-02',),\n",
       " ('2009-10-30',),\n",
       " ('2010-01-15',),\n",
       " ('2009-10-18',),\n",
       " ('2010-02-05',),\n",
       " ('2009-08-24',)]"
      ]
     },
     "execution_count": 10,
     "metadata": {},
     "output_type": "execute_result"
    }
   ],
   "source": [
    "date = c.execute(\"\"\"\n",
    "            SELECT Date\n",
    "            FROM Matches\n",
    "            LIMIT 20;\n",
    "        \"\"\").fetchall()\n",
    "date"
   ]
  },
  {
   "cell_type": "code",
   "execution_count": 4,
   "metadata": {},
   "outputs": [],
   "source": [
    "URL = 'https://api.darksky.net/forecast'\n",
    "API_key = '142337611765433b11ce2f729e5db0e7'\n",
    "latitude = '52.5200'\n",
    "longitude = '13.4050'\n",
    "#time = '2011-05-21T00:00:00Z'\n",
    "          \n"
   ]
  },
  {
   "cell_type": "code",
   "execution_count": 11,
   "metadata": {},
   "outputs": [
    {
     "name": "stdout",
     "output_type": "stream",
     "text": [
      "{'code': 403, 'error': 'daily usage limit exceeded'}\n"
     ]
    },
    {
     "ename": "KeyError",
     "evalue": "'daily'",
     "output_type": "error",
     "traceback": [
      "\u001b[0;31m---------------------------------------------------------------------------\u001b[0m",
      "\u001b[0;31mKeyError\u001b[0m                                  Traceback (most recent call last)",
      "\u001b[0;32m<ipython-input-11-da94a5a4efb6>\u001b[0m in \u001b[0;36m<module>\u001b[0;34m\u001b[0m\n\u001b[1;32m     12\u001b[0m                 )\n\u001b[1;32m     13\u001b[0m     \u001b[0mprint\u001b[0m\u001b[0;34m(\u001b[0m\u001b[0mr\u001b[0m\u001b[0;34m.\u001b[0m\u001b[0mjson\u001b[0m\u001b[0;34m(\u001b[0m\u001b[0;34m)\u001b[0m\u001b[0;34m)\u001b[0m\u001b[0;34m\u001b[0m\u001b[0;34m\u001b[0m\u001b[0m\n\u001b[0;32m---> 14\u001b[0;31m     \u001b[0mitem\u001b[0m \u001b[0;34m=\u001b[0m \u001b[0mr\u001b[0m\u001b[0;34m.\u001b[0m\u001b[0mjson\u001b[0m\u001b[0;34m(\u001b[0m\u001b[0;34m)\u001b[0m\u001b[0;34m[\u001b[0m\u001b[0;34m'daily'\u001b[0m\u001b[0;34m]\u001b[0m\u001b[0;34m[\u001b[0m\u001b[0;34m'data'\u001b[0m\u001b[0;34m]\u001b[0m\u001b[0;34m[\u001b[0m\u001b[0;36m0\u001b[0m\u001b[0;34m]\u001b[0m\u001b[0;34m\u001b[0m\u001b[0;34m\u001b[0m\u001b[0m\n\u001b[0m\u001b[1;32m     15\u001b[0m     \u001b[0mitem\u001b[0m \u001b[0;34m=\u001b[0m \u001b[0mitem\u001b[0m\u001b[0;34m.\u001b[0m\u001b[0mget\u001b[0m\u001b[0;34m(\u001b[0m\u001b[0;34m'icon'\u001b[0m\u001b[0;34m)\u001b[0m\u001b[0;34m\u001b[0m\u001b[0;34m\u001b[0m\u001b[0m\n\u001b[1;32m     16\u001b[0m     \u001b[0mvalues\u001b[0m\u001b[0;34m.\u001b[0m\u001b[0mappend\u001b[0m\u001b[0;34m(\u001b[0m\u001b[0;34m[\u001b[0m\u001b[0mtime\u001b[0m\u001b[0;34m,\u001b[0m \u001b[0mitem\u001b[0m\u001b[0;34m]\u001b[0m\u001b[0;34m)\u001b[0m\u001b[0;34m\u001b[0m\u001b[0;34m\u001b[0m\u001b[0m\n",
      "\u001b[0;31mKeyError\u001b[0m: 'daily'"
     ]
    }
   ],
   "source": [
    "values = []\n",
    "for i in range(len(date)):\n",
    "    time = date[i][0]\n",
    "    r = requests.get('https://api.darksky.net/forecast/' \n",
    "                 + API_key \n",
    "                 + \"/\" \n",
    "                 + latitude \n",
    "                 + ',' \n",
    "                 + longitude \n",
    "                 + ',' \n",
    "                 + time + \"T00:00:00Z\"\n",
    "                )\n",
    "    print(r.json())\n",
    "    item = r.json()['daily']['data'][0]\n",
    "    item = item.get('icon')\n",
    "    values.append([time, item])\n",
    "values"
   ]
  },
  {
   "cell_type": "markdown",
   "metadata": {},
   "source": [
    "Gathers all dates From matches table and creates a table with date and weather"
   ]
  },
  {
   "cell_type": "code",
   "execution_count": null,
   "metadata": {},
   "outputs": [],
   "source": [
    "# def get_weather(URL, API_key, date):\n",
    "#     latitude = '52.5200'\n",
    "#     longitude = '13.4050'\n",
    "#     date = c.execute(\"\"\"\n",
    "#             SELECT Date\n",
    "#             FROM Matches\n",
    "#Where Date LIKE '%date'\n",
    "#             LIMIT 20;\n",
    "#         \"\"\").fetchall()\n",
    "#     values = []\n",
    "#     for i in range(len(date)):\n",
    "#         time = date[i][0]\n",
    "#         r = requests.get('https://api.darksky.net/forecast/' \n",
    "#                      + API_key \n",
    "#                      + \"/\" \n",
    "#                      + latitude \n",
    "#                      + ',' \n",
    "#                      + longitude \n",
    "#                      + ',' \n",
    "#                      + time + \"T00:00:00Z\"\n",
    "#                     )\n",
    "#         print(r.json())\n",
    "#         item = r.json()['daily']['data'][0]\n",
    "#         item = item.get('icon')\n",
    "#         values.append([time, item])\n",
    "#     c.execute('DROP TABLE IF EXISTS Weather')\n",
    "#     c.execute(\"\"\"\n",
    "#         CREATE TABLE Weather(\n",
    "#         Date varchar(255),\n",
    "#         Icon varchar(255)\n",
    "#         );\n",
    "#         \"\"\")\n",
    "#     for i in range(len(values)):\n",
    "#         c.execute(f\"\"\"\n",
    "#                 INSERT INTO Weather \n",
    "#                 VALUES ('{values[i][0]}' ,'{values[i][1]}');\n",
    "#                 \"\"\")"
   ]
  },
  {
   "cell_type": "code",
   "execution_count": null,
   "metadata": {},
   "outputs": [],
   "source": [
    "c.execute('DROP TABLE IF EXISTS Weather')\n",
    "c.execute(\"\"\"\n",
    "    CREATE TABLE Weather(\n",
    "    Date varchar(255),\n",
    "    Icon varchar(255)\n",
    "    );\n",
    "    \"\"\")\n",
    "for i in range(len(values)):\n",
    "    c.execute(f\"\"\"\n",
    "            INSERT INTO Weather \n",
    "            VALUES ('{values[i][0]}' ,'{values[i][1]}');\n",
    "            \"\"\")"
   ]
  },
  {
   "cell_type": "markdown",
   "metadata": {},
   "source": [
    "Create a SQLite query for the number of home goals per team named as Home_Goals."
   ]
  },
  {
   "cell_type": "code",
   "execution_count": null,
   "metadata": {},
   "outputs": [],
   "source": [
    "c.execute('DROP TABLE IF EXISTS Home_Goals')\n",
    "c.execute(\"\"\"\n",
    "            CREATE TABLE Home_Goals AS \n",
    "                SELECT DISTINCT(HomeTeam) AS Team,\n",
    "                SUM(FTHG) AS Goals,\n",
    "                COUNT(FTR) AS Wins,\n",
    "                Icon\n",
    "                From Matches\n",
    "                JOIN Weather ON Matches.Date = Weather.Date\n",
    "                WHERE FTR = 'H'\n",
    "                GROUP BY HomeTeam, Icon\n",
    "            ;\n",
    "            \"\"\")\n",
    "c.execute('SELECT * FROM Home_Goals').fetchall()"
   ]
  },
  {
   "cell_type": "markdown",
   "metadata": {},
   "source": [
    "Create a SQLite query for the number of away goals per team named as Away_Goals."
   ]
  },
  {
   "cell_type": "code",
   "execution_count": null,
   "metadata": {},
   "outputs": [],
   "source": [
    "c.execute('DROP TABLE IF EXISTS Away_Goals')\n",
    "c.execute(\"\"\"\n",
    "            CREATE TABLE Away_Goals AS\n",
    "            SELECT DISTINCT(AwayTeam) AS Team,\n",
    "            SUM(FTAG) AS Goals,\n",
    "            COUNT(FTR) AS Wins,\n",
    "            Icon\n",
    "            From Matches\n",
    "            JOIN Weather ON Matches.Date = Weather.Date\n",
    "            WHERE FTR = 'A'\n",
    "            GROUP BY HomeTeam, Icon\n",
    "            ;\n",
    "            \"\"\")\n",
    "c.execute('SELECT * FROM Away_Goals').fetchall()"
   ]
  },
  {
   "cell_type": "code",
   "execution_count": null,
   "metadata": {},
   "outputs": [],
   "source": [
    "def pipeline(season):\n",
    "    query = \"\"\"\n",
    "            SELECT \n",
    "            DISTINCT(HomeTeam) AS Teams,\n",
    "            Div,\n",
    "            Home_Goals.Goals + Away_Goals.Goals AS Goals,\n",
    "            Home_Goals.Wins + Away_Goals.Wins AS Wins,\n",
    "            ROUND(SUM(Home_Goals.Wins + Away_Goals.Wins) * 100.0 / SUM(SUM(Home_Goals.Wins + Away_Goals.Wins)) OVER(PARTITION BY HomeTeam), 0) AS percent,\n",
    "            Home_Goals.Icon\n",
    "            FROM Matches\n",
    "            JOIN Home_Goals ON Matches.HomeTeam = Home_Goals.Team\n",
    "            JOIN Away_Goals ON Matches.HomeTeam = Away_Goals.Team\n",
    "            WHERE Div = 'D2' OR Div = 'E0'\n",
    "            AND Season = '\"\"\" + str(season) + \"\"\"'\n",
    "            GROUP BY Teams, Home_Goals.Icon\n",
    "            ;\"\"\" \n",
    "    c.execute(query)\n",
    "    df = pd.DataFrame(c.fetchall())\n",
    "    df.columns = [x[0] for x in c.description]\n",
    "    df.groupby('Teams')\n",
    "    return df"
   ]
  },
  {
   "cell_type": "markdown",
   "metadata": {},
   "source": [
    "Check our function:"
   ]
  },
  {
   "cell_type": "code",
   "execution_count": null,
   "metadata": {},
   "outputs": [],
   "source": [
    "all = pipeline(2011)\n",
    "all"
   ]
  },
  {
   "cell_type": "code",
   "execution_count": null,
   "metadata": {},
   "outputs": [],
   "source": [
    "def which_division:\n",
    "    all = pipeline(season)\n",
    "    D2 = all[all[\"Div\"] == 'D2']\n",
    "    D2 = D2.sum()\n",
    "    E0 = all[all[\"Div\"] == 'E0']\n",
    "    E0 = E0.sum()\n",
    "    if D2 > EO:\n",
    "        print('D2')\n",
    "    else:\n",
    "        print('E0')"
   ]
  },
  {
   "cell_type": "code",
   "execution_count": null,
   "metadata": {},
   "outputs": [],
   "source": [
    "def rain(season):\n",
    "    all = pipline(season)\n",
    "    rain = all[all['Icon'] == 'rain']\n",
    "    rain"
   ]
  },
  {
   "cell_type": "code",
   "execution_count": null,
   "metadata": {},
   "outputs": [],
   "source": [
    "atlas_user = 'brian_m'\n",
    "atlas_key = ds.get_api_key('/Users/bmcgarry/.secret/atlas.txt')\n",
    "cluster_name = 'chocolate-clusters-so6jw'\n",
    "collection_name = 'soccer_stats'\n",
    "\n",
    "ds.insert_to_atlas(atlas_user,\n",
    "                   atlas_key,\n",
    "                   cluster_name,\n",
    "                   collection_name,\n",
    "                   team_stats)"
   ]
  }
 ],
 "metadata": {
  "kernelspec": {
   "display_name": "Python [conda env:learn-env] *",
   "language": "python",
   "name": "conda-env-learn-env-py"
  },
  "language_info": {
   "codemirror_mode": {
    "name": "ipython",
    "version": 3
   },
   "file_extension": ".py",
   "mimetype": "text/x-python",
   "name": "python",
   "nbconvert_exporter": "python",
   "pygments_lexer": "ipython3",
   "version": "3.6.9"
  }
 },
 "nbformat": 4,
 "nbformat_minor": 2
}
